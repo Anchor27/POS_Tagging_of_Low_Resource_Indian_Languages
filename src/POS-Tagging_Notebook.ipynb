{
 "cells": [
  {
   "cell_type": "code",
   "execution_count": null,
   "metadata": {
    "colab": {
     "base_uri": "https://localhost:8080/"
    },
    "id": "retaFLX9Z1N9",
    "outputId": "868f1d23-2e30-4000-9485-a08de5fc5b6b"
   },
   "outputs": [
    {
     "name": "stdout",
     "output_type": "stream",
     "text": [
      "Requirement already satisfied: scikit-learn in /usr/local/lib/python3.10/dist-packages (1.2.2)\n",
      "Requirement already satisfied: numpy>=1.17.3 in /usr/local/lib/python3.10/dist-packages (from scikit-learn) (1.23.5)\n",
      "Requirement already satisfied: scipy>=1.3.2 in /usr/local/lib/python3.10/dist-packages (from scikit-learn) (1.11.3)\n",
      "Requirement already satisfied: joblib>=1.1.1 in /usr/local/lib/python3.10/dist-packages (from scikit-learn) (1.3.2)\n",
      "Requirement already satisfied: threadpoolctl>=2.0.0 in /usr/local/lib/python3.10/dist-packages (from scikit-learn) (3.2.0)\n"
     ]
    }
   ],
   "source": [
    "!pip install scikit-learn"
   ]
  },
  {
   "cell_type": "code",
   "execution_count": null,
   "metadata": {
    "id": "QRKUm9HhaArI"
   },
   "outputs": [],
   "source": [
    "import pandas as pd\n",
    "\n",
    "# Reading data in chunks\n",
    "def read_csv_in_chunks(url, chunk_size=1000):\n",
    "    reader = pd.read_csv(url, chunksize=chunk_size)\n",
    "    for chunk in reader:\n",
    "        yield chunk\n",
    "\n",
    "data_chunks = []\n",
    "for chunk in read_csv_in_chunks('/content/pos_bh.csv'):\n",
    "    data_chunks.append(chunk)\n",
    "bh_data = pd.concat(data_chunks, ignore_index=True)\n",
    "\n",
    "\n",
    "combined_data=bh_data"
   ]
  },
  {
   "cell_type": "code",
   "execution_count": null,
   "metadata": {
    "colab": {
     "base_uri": "https://localhost:8080/",
     "height": 35
    },
    "id": "5rREk9sfaJv_",
    "outputId": "782abef3-1d64-4819-ac44-e55ecfac1e41"
   },
   "outputs": [
    {
     "data": {
      "application/vnd.google.colaboratory.intrinsic+json": {
       "type": "string"
      },
      "text/plain": [
       "'# Release the memory occupied by linguistic_features\\ndel linguistic_features\\n'"
      ]
     },
     "execution_count": 4,
     "metadata": {},
     "output_type": "execute_result"
    }
   ],
   "source": [
    "import pandas as pd\n",
    "import numpy as np\n",
    "from sklearn.feature_extraction.text import TfidfVectorizer\n",
    "from sklearn.model_selection import train_test_split\n",
    "from sklearn.ensemble import RandomForestClassifier\n",
    "from sklearn.metrics import classification_report, accuracy_score\n",
    "from scipy import sparse\n",
    "\n",
    "\n",
    "combined_data['tokens'] = combined_data['tokens'].fillna('')\n",
    "\n",
    "# Converting the linguistic features to a sparse matrix\n",
    "combined_data['text_length'] = combined_data['tokens'].apply(len)\n",
    "combined_data['num_words'] = combined_data['tokens'].apply(lambda x: len(x.split()))\n",
    "linguistic_features = combined_data[['text_length', 'num_words']]\n",
    "\n",
    "combined_data = combined_data.sample(frac=1, random_state=42).reset_index(drop=True)\n",
    "\n",
    "# test-train split\n",
    "X_train_text, X_test_text, y_train, y_test = train_test_split(combined_data['tokens'], combined_data['pos_tags'], test_size=0.2, random_state=42)\n",
    "\n",
    "# Character n-gram features\n",
    "char_vectorizer = TfidfVectorizer(analyzer='char', ngram_range=(2, 5), lowercase=True)\n",
    "char_ngram_features = char_vectorizer.fit_transform(X_train_text)\n",
    "\n",
    "\n",
    "# Converting char_ngram_features to sparse matrices\n",
    "char_ngram_features = sparse.csr_matrix(char_ngram_features)\n",
    "\n",
    "\n",
    "# Releasing memoory\n",
    "del X_train_text\n",
    "\n",
    "# Converting char_ngram_features to sparse matrices\n",
    "linguistic_features = sparse.csr_matrix(linguistic_features)\n",
    "\n",
    "# Ensuring linguistic_features and combined_features have compatible dimensions\n",
    "if linguistic_features.shape[0] != char_ngram_features.shape[0]:\n",
    "    linguistic_features = linguistic_features[:char_ngram_features.shape[0], :]\n",
    "\n",
    "combined_features = sparse.hstack((char_ngram_features, linguistic_features)).tocsr()\n"
   ]
  },
  {
   "cell_type": "code",
   "execution_count": null,
   "metadata": {
    "colab": {
     "base_uri": "https://localhost:8080/",
     "height": 75
    },
    "id": "UU6avArIaL3_",
    "outputId": "0082cead-b5b5-4250-d8c3-a9356ec6e42c"
   },
   "outputs": [
    {
     "data": {
      "text/html": [
       "<style>#sk-container-id-1 {color: black;background-color: white;}#sk-container-id-1 pre{padding: 0;}#sk-container-id-1 div.sk-toggleable {background-color: white;}#sk-container-id-1 label.sk-toggleable__label {cursor: pointer;display: block;width: 100%;margin-bottom: 0;padding: 0.3em;box-sizing: border-box;text-align: center;}#sk-container-id-1 label.sk-toggleable__label-arrow:before {content: \"▸\";float: left;margin-right: 0.25em;color: #696969;}#sk-container-id-1 label.sk-toggleable__label-arrow:hover:before {color: black;}#sk-container-id-1 div.sk-estimator:hover label.sk-toggleable__label-arrow:before {color: black;}#sk-container-id-1 div.sk-toggleable__content {max-height: 0;max-width: 0;overflow: hidden;text-align: left;background-color: #f0f8ff;}#sk-container-id-1 div.sk-toggleable__content pre {margin: 0.2em;color: black;border-radius: 0.25em;background-color: #f0f8ff;}#sk-container-id-1 input.sk-toggleable__control:checked~div.sk-toggleable__content {max-height: 200px;max-width: 100%;overflow: auto;}#sk-container-id-1 input.sk-toggleable__control:checked~label.sk-toggleable__label-arrow:before {content: \"▾\";}#sk-container-id-1 div.sk-estimator input.sk-toggleable__control:checked~label.sk-toggleable__label {background-color: #d4ebff;}#sk-container-id-1 div.sk-label input.sk-toggleable__control:checked~label.sk-toggleable__label {background-color: #d4ebff;}#sk-container-id-1 input.sk-hidden--visually {border: 0;clip: rect(1px 1px 1px 1px);clip: rect(1px, 1px, 1px, 1px);height: 1px;margin: -1px;overflow: hidden;padding: 0;position: absolute;width: 1px;}#sk-container-id-1 div.sk-estimator {font-family: monospace;background-color: #f0f8ff;border: 1px dotted black;border-radius: 0.25em;box-sizing: border-box;margin-bottom: 0.5em;}#sk-container-id-1 div.sk-estimator:hover {background-color: #d4ebff;}#sk-container-id-1 div.sk-parallel-item::after {content: \"\";width: 100%;border-bottom: 1px solid gray;flex-grow: 1;}#sk-container-id-1 div.sk-label:hover label.sk-toggleable__label {background-color: #d4ebff;}#sk-container-id-1 div.sk-serial::before {content: \"\";position: absolute;border-left: 1px solid gray;box-sizing: border-box;top: 0;bottom: 0;left: 50%;z-index: 0;}#sk-container-id-1 div.sk-serial {display: flex;flex-direction: column;align-items: center;background-color: white;padding-right: 0.2em;padding-left: 0.2em;position: relative;}#sk-container-id-1 div.sk-item {position: relative;z-index: 1;}#sk-container-id-1 div.sk-parallel {display: flex;align-items: stretch;justify-content: center;background-color: white;position: relative;}#sk-container-id-1 div.sk-item::before, #sk-container-id-1 div.sk-parallel-item::before {content: \"\";position: absolute;border-left: 1px solid gray;box-sizing: border-box;top: 0;bottom: 0;left: 50%;z-index: -1;}#sk-container-id-1 div.sk-parallel-item {display: flex;flex-direction: column;z-index: 1;position: relative;background-color: white;}#sk-container-id-1 div.sk-parallel-item:first-child::after {align-self: flex-end;width: 50%;}#sk-container-id-1 div.sk-parallel-item:last-child::after {align-self: flex-start;width: 50%;}#sk-container-id-1 div.sk-parallel-item:only-child::after {width: 0;}#sk-container-id-1 div.sk-dashed-wrapped {border: 1px dashed gray;margin: 0 0.4em 0.5em 0.4em;box-sizing: border-box;padding-bottom: 0.4em;background-color: white;}#sk-container-id-1 div.sk-label label {font-family: monospace;font-weight: bold;display: inline-block;line-height: 1.2em;}#sk-container-id-1 div.sk-label-container {text-align: center;}#sk-container-id-1 div.sk-container {/* jupyter's `normalize.less` sets `[hidden] { display: none; }` but bootstrap.min.css set `[hidden] { display: none !important; }` so we also need the `!important` here to be able to override the default hidden behavior on the sphinx rendered scikit-learn.org. See: https://github.com/scikit-learn/scikit-learn/issues/21755 */display: inline-block !important;position: relative;}#sk-container-id-1 div.sk-text-repr-fallback {display: none;}</style><div id=\"sk-container-id-1\" class=\"sk-top-container\"><div class=\"sk-text-repr-fallback\"><pre>RandomForestClassifier(random_state=42)</pre><b>In a Jupyter environment, please rerun this cell to show the HTML representation or trust the notebook. <br />On GitHub, the HTML representation is unable to render, please try loading this page with nbviewer.org.</b></div><div class=\"sk-container\" hidden><div class=\"sk-item\"><div class=\"sk-estimator sk-toggleable\"><input class=\"sk-toggleable__control sk-hidden--visually\" id=\"sk-estimator-id-1\" type=\"checkbox\" checked><label for=\"sk-estimator-id-1\" class=\"sk-toggleable__label sk-toggleable__label-arrow\">RandomForestClassifier</label><div class=\"sk-toggleable__content\"><pre>RandomForestClassifier(random_state=42)</pre></div></div></div></div></div>"
      ],
      "text/plain": [
       "RandomForestClassifier(random_state=42)"
      ]
     },
     "execution_count": 5,
     "metadata": {},
     "output_type": "execute_result"
    }
   ],
   "source": [
    "#The Model\n",
    "model = RandomForestClassifier(n_estimators=100, random_state=42)\n",
    "\n",
    "#Training the Model\n",
    "model.fit(combined_features, y_train)\n"
   ]
  },
  {
   "cell_type": "code",
   "execution_count": null,
   "metadata": {
    "colab": {
     "base_uri": "https://localhost:8080/"
    },
    "id": "S1d4pa2_aNb6",
    "outputId": "45cd16eb-41ce-4509-9cf1-49a66dbeeef6"
   },
   "outputs": [
    {
     "name": "stderr",
     "output_type": "stream",
     "text": [
      "/usr/local/lib/python3.10/dist-packages/sklearn/metrics/_classification.py:1344: UndefinedMetricWarning: Precision and F-score are ill-defined and being set to 0.0 in labels with no predicted samples. Use `zero_division` parameter to control this behavior.\n",
      "  _warn_prf(average, modifier, msg_start, len(result))\n",
      "/usr/local/lib/python3.10/dist-packages/sklearn/metrics/_classification.py:1344: UndefinedMetricWarning: Precision and F-score are ill-defined and being set to 0.0 in labels with no predicted samples. Use `zero_division` parameter to control this behavior.\n",
      "  _warn_prf(average, modifier, msg_start, len(result))\n"
     ]
    },
    {
     "name": "stdout",
     "output_type": "stream",
     "text": [
      "Accuracy: 0.7818605484853917\n",
      "Classification Report:\n",
      "              precision    recall  f1-score   support\n",
      "\n",
      "         BLK       0.00      0.00      0.00        11\n",
      "          CC       0.70      0.36      0.48      1386\n",
      "         CCP       0.00      0.00      0.00       107\n",
      "          CL       0.67      0.86      0.75        51\n",
      "         DEM       0.18      0.01      0.03       280\n",
      "         ECH       0.25      0.09      0.13        22\n",
      "         INJ       0.70      0.38      0.50        73\n",
      "        INTF       0.38      0.43      0.40        77\n",
      "          JJ       0.63      0.50      0.56      1619\n",
      "         JJP       0.00      0.00      0.00        18\n",
      "         NEG       0.89      0.91      0.90       574\n",
      "        NEGP       0.00      0.00      0.00         2\n",
      "          NN       0.85      0.88      0.86     11902\n",
      "         NNP       0.84      0.76      0.80      1658\n",
      "          NP       0.61      1.00      0.76       711\n",
      "         NST       0.64      0.71      0.67       737\n",
      "         PRP       0.85      0.75      0.80      3015\n",
      "         PSP       0.95      0.93      0.94      6449\n",
      "          QC       0.89      0.83      0.86       621\n",
      "          QF       0.65      0.70      0.68       649\n",
      "          QO       0.56      0.49      0.52        81\n",
      "          RB       0.38      0.21      0.27       224\n",
      "         RBP       0.00      0.00      0.00         7\n",
      "         RDP       0.24      0.08      0.12       127\n",
      "          RP       0.72      0.30      0.42       771\n",
      "         SYM       0.63      1.00      0.77      3892\n",
      "         UNK       0.00      0.00      0.00        14\n",
      "          UT       1.00      1.00      1.00         2\n",
      "        VAUX       0.53      0.40      0.45      1910\n",
      "         VGF       0.00      0.00      0.00       269\n",
      "        VGNF       0.00      0.00      0.00        37\n",
      "          VM       0.77      0.80      0.78      6985\n",
      "          WQ       0.58      0.59      0.58       350\n",
      "          XC       0.00      0.00      0.00         1\n",
      "\n",
      "    accuracy                           0.78     44632\n",
      "   macro avg       0.47      0.44      0.44     44632\n",
      "weighted avg       0.77      0.78      0.77     44632\n",
      "\n"
     ]
    },
    {
     "name": "stderr",
     "output_type": "stream",
     "text": [
      "/usr/local/lib/python3.10/dist-packages/sklearn/metrics/_classification.py:1344: UndefinedMetricWarning: Precision and F-score are ill-defined and being set to 0.0 in labels with no predicted samples. Use `zero_division` parameter to control this behavior.\n",
      "  _warn_prf(average, modifier, msg_start, len(result))\n"
     ]
    }
   ],
   "source": [
    "# Making predictions on the test data\n",
    "X_test_char_ngram = char_vectorizer.transform(X_test_text)\n",
    "X_test_linguistic = sparse.csr_matrix(linguistic_features)\n",
    "\n",
    "# Ensuring test data dimensions are compatible\n",
    "if X_test_linguistic.shape[0] != X_test_char_ngram.shape[0]:\n",
    "    X_test_linguistic = X_test_linguistic[:X_test_char_ngram.shape[0], :]\n",
    "\n",
    "X_test_combined = sparse.hstack((X_test_char_ngram, X_test_linguistic)).tocsr()\n",
    "y_pred = model.predict(X_test_combined)\n",
    "\n",
    "# Evaluating the model (tag - wise)\n",
    "accuracy = accuracy_score(y_test, y_pred)\n",
    "report = classification_report(y_test, y_pred)\n",
    "\n",
    "print(f\"Accuracy: {accuracy}\")\n",
    "print(\"Classification Report:\")\n",
    "print(report)\n"
   ]
  },
  {
   "cell_type": "code",
   "execution_count": null,
   "metadata": {
    "colab": {
     "base_uri": "https://localhost:8080/"
    },
    "id": "erAh9TuRfeAU",
    "outputId": "90eac191-8f9c-4d3a-a4a0-0311713d32db"
   },
   "outputs": [
    {
     "name": "stderr",
     "output_type": "stream",
     "text": [
      "/usr/local/lib/python3.10/dist-packages/sklearn/metrics/_classification.py:1344: UndefinedMetricWarning: Precision and F-score are ill-defined and being set to 0.0 in labels with no predicted samples. Use `zero_division` parameter to control this behavior.\n",
      "  _warn_prf(average, modifier, msg_start, len(result))\n",
      "/usr/local/lib/python3.10/dist-packages/sklearn/metrics/_classification.py:1344: UndefinedMetricWarning: Precision and F-score are ill-defined and being set to 0.0 in labels with no predicted samples. Use `zero_division` parameter to control this behavior.\n",
      "  _warn_prf(average, modifier, msg_start, len(result))\n"
     ]
    },
    {
     "name": "stdout",
     "output_type": "stream",
     "text": [
      "Overall Accuracy: 0.7818605484853917\n",
      "Overall Precision: 0.47321819219511524\n",
      "Overall Recall: 0.44054856000694914\n",
      "Overall F1 Score: 0.4424331837274978\n"
     ]
    },
    {
     "name": "stderr",
     "output_type": "stream",
     "text": [
      "/usr/local/lib/python3.10/dist-packages/sklearn/metrics/_classification.py:1344: UndefinedMetricWarning: Precision and F-score are ill-defined and being set to 0.0 in labels with no predicted samples. Use `zero_division` parameter to control this behavior.\n",
      "  _warn_prf(average, modifier, msg_start, len(result))\n"
     ]
    }
   ],
   "source": [
    "X_test_char_ngram = char_vectorizer.transform(X_test_text)\n",
    "\n",
    "# Ensuring test data dimensions are compatible\n",
    "if X_test_linguistic.shape[0] != X_test_char_ngram.shape[0]:\n",
    "    X_test_linguistic = X_test_linguistic[:X_test_char_ngram.shape[0], :]\n",
    "\n",
    "X_test_combined = sparse.hstack((X_test_char_ngram, X_test_linguistic)).tocsr()\n",
    "y_pred = model.predict(X_test_combined)\n",
    "\n",
    "# Calculating the overall metrics\n",
    "accuracy = accuracy_score(y_test, y_pred)\n",
    "report = classification_report(y_test, y_pred, output_dict=True)\n",
    "\n",
    "# Extracting overall metrics\n",
    "overall_accuracy = accuracy\n",
    "overall_precision = report['macro avg']['precision']\n",
    "overall_recall = report['macro avg']['recall']\n",
    "overall_f1_score = report['macro avg']['f1-score']\n",
    "\n",
    "# Printing the overall metrics\n",
    "print(f\"Overall Accuracy: {overall_accuracy}\")\n",
    "print(f\"Overall Precision: {overall_precision}\")\n",
    "print(f\"Overall Recall: {overall_recall}\")\n",
    "print(f\"Overall F1 Score: {overall_f1_score}\")"
   ]
  }
 ],
 "metadata": {
  "accelerator": "GPU",
  "colab": {
   "gpuType": "T4",
   "provenance": []
  },
  "kernelspec": {
   "display_name": "Python 3 (ipykernel)",
   "language": "python",
   "name": "python3"
  },
  "language_info": {
   "codemirror_mode": {
    "name": "ipython",
    "version": 3
   },
   "file_extension": ".py",
   "mimetype": "text/x-python",
   "name": "python",
   "nbconvert_exporter": "python",
   "pygments_lexer": "ipython3",
   "version": "3.10.12"
  }
 },
 "nbformat": 4,
 "nbformat_minor": 4
}
